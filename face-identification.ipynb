{
 "cells": [
  {
   "cell_type": "markdown",
   "metadata": {},
   "source": [
    "# Face Identification\n",
    "\n",
    "1. MTCNN으로 이미지 내 얼굴을 인식하고 얼굴 부분만 오려낸다.\n",
    "\n",
    "2. 얼굴 이미지를  \"FaceNet: A Unified Embedding for Face Recognition and Clustering\"을 통해 특징 벡터로 표현한다.\n",
    "\n",
    "3. 이 특징 벡터로 SVM 분류기를 학습하여 Face Identification 모델을 만든다."
   ]
  },
  {
   "cell_type": "markdown",
   "metadata": {},
   "source": [
    "## Import Libraries"
   ]
  },
  {
   "cell_type": "markdown",
   "metadata": {},
   "source": [
    "현재 이 코드가 적힌 파일 위치에 facenet_pytorch이라는 폴더가 있고, 이를 모듈처럼 불러와 사용하는데,\n",
    "\n",
    "이것도 `__init__.py`라는 파일이 있어야 이렇게 모듈처럼 불러올 수 있고, 동일 폴더 내에 있어야 하는 등 여러 조건이 있다."
   ]
  },
  {
   "cell_type": "code",
   "execution_count": 1,
   "metadata": {
    "pycharm": {
     "name": "#%%\n"
    }
   },
   "outputs": [],
   "source": [
    "# 구글이 공개한 facenet이라는 AI 모델이 있는데, tensorflow로 작성된 것을 pytorch 형태로 공개하고 있다.\n",
    "# https://github.com/timesler/facenet-pytorch\n",
    "from facenet_pytorch import MTCNN, InceptionResnetV1, fixed_image_standardization, training"
   ]
  },
  {
   "cell_type": "code",
   "execution_count": 2,
   "metadata": {
    "pycharm": {
     "name": "#%%\n"
    }
   },
   "outputs": [],
   "source": [
    "from __future__ import print_function, division\n",
    "import os\n",
    "import torch\n",
    "from torch.utils.data import DataLoader, SubsetRandomSampler\n",
    "from torch import optim\n",
    "from torch.optim.lr_scheduler import MultiStepLR\n",
    "from torch.utils.tensorboard import SummaryWriter\n",
    "from torchvision import datasets, transforms\n",
    "import numpy as np\n",
    "import pandas as pd\n",
    "\n",
    "# 경고 메시지 무시하기\n",
    "import warnings\n",
    "warnings.filterwarnings(\"ignore\")"
   ]
  },
  {
   "cell_type": "markdown",
   "metadata": {},
   "source": [
    "## Import the Data"
   ]
  },
  {
   "cell_type": "markdown",
   "metadata": {},
   "source": [
    "우리가 봤었던 MNIST의 경우, 데이터가 이미지인데 excel에 숫자로 적혀 있어서 pandas로 불러와서 이를 torch로 바꿔주었으나,\n",
    "\n",
    "`featuresTrain = torch.from_numpy(features_train)`\n",
    "\n",
    "`targetsTrain = torch.from_numpy(target_train).type(torch.LongTensor)`\n",
    "\n",
    "`train = torch.utils.data.TensorDataset(featuresTrain,targetsTrain)`\n",
    "\n",
    "여기서는 이미지 파일이기 때문에 torchvision.datasets이라는 내장된 모듈을 사용해 간편하게 불러온다.\n",
    "\n",
    "***그리고 이미지를 align 해야 하는 과정이 필요하다.***\n",
    "\n",
    "`dataset = datasets.ImageFolder(data_dir, transform=transforms.Resize((512, 512)))`\n",
    "\n",
    "&nbsp;\n",
    "\n",
    "***추가로, [Pytorch를 활용한 데이터 불러오는 과정에 대한 튜토리얼](https://tutorials.pytorch.kr/beginner/data_loading_tutorial.html)***"
   ]
  },
  {
   "cell_type": "markdown",
   "metadata": {},
   "source": [
    "#### Define run parameters\n",
    "\n",
    "The dataset should follow the VGGFace2/ImageNet-style directory layout. Modify `data_dir` to the location of the dataset on wish to finetune on.\n",
    "\n",
    "보통 input data 위치 및 하이퍼파라미터를 설정하는 것인데, 하이퍼 파라미터란 조정하는 수치값을 의미한다.\n",
    "\n",
    "epoch의 경우 같은 데이터로 학습을 몇 번 돌릴 것인지를 의미한다."
   ]
  },
  {
   "cell_type": "code",
   "execution_count": 3,
   "metadata": {
    "pycharm": {
     "name": "#%%\n"
    }
   },
   "outputs": [],
   "source": [
    "data_dir = './data/train'\n",
    "\n",
    "workers = 0 if os.name == 'nt' else 4"
   ]
  },
  {
   "cell_type": "markdown",
   "metadata": {},
   "source": [
    "#### Determine if an nvidia GPU is available"
   ]
  },
  {
   "cell_type": "code",
   "execution_count": 4,
   "metadata": {
    "pycharm": {
     "name": "#%%\n"
    }
   },
   "outputs": [
    {
     "name": "stdout",
     "output_type": "stream",
     "text": [
      "Running on device: cpu\n"
     ]
    }
   ],
   "source": [
    "device = torch.device('cuda:0' if torch.cuda.is_available() else 'cpu')\n",
    "print('Running on device: {}'.format(device))"
   ]
  },
  {
   "cell_type": "markdown",
   "metadata": {},
   "source": [
    "#### Define MTCNN module\n",
    "\n",
    "See `help(MTCNN)` for more details."
   ]
  },
  {
   "cell_type": "code",
   "execution_count": 5,
   "metadata": {
    "pycharm": {
     "name": "#%%\n"
    }
   },
   "outputs": [],
   "source": [
    "mtcnn = MTCNN(\n",
    "    image_size=160, margin=0, min_face_size=20,\n",
    "    thresholds=[0.6, 0.7, 0.7], factor=0.709,\n",
    "    device=device\n",
    ")"
   ]
  },
  {
   "cell_type": "markdown",
   "metadata": {},
   "source": [
    "## Pytorch를 사용하여 이미지를 불러올 때\n",
    "\n",
    "1. 보통 `torchvision.datasets`로 데이터 객체를 선언하고, (`torchvision.datasets`은 `torch.utils.data.Dataset`의 서브 클래스이다)\n",
    "2. `torch.utils.data.DataLoader`로 데이터 로드를 위한 객체를 선언하고,\n",
    "3. 그 객체로 데이터를 로드한다.\n",
    "\n",
    "데이터를 불러오는 과정에서 이러한 내장된 객체를 사용하는 이유는 여러 기능을 포함하기 때문이다.\n",
    "\n",
    "`torchvision.datasets`의 경우,\n",
    "\n",
    "- IMG_EXTENSIONS('.jpg', '.jpeg', '.png', '.ppm', '.bmp', '.pgm', '.tif', '.tiff', '.webp')에 대해서 처리 가능하고,\n",
    "- 데이터를 PIL(Python Imaging Library) 객체로 바뀌어 python 내에서 통일적으로 효율적으로 처리된다.\n",
    "- 또한 이미지를 쉽게 변형시킬 수 있는 transform 기능을 포함하고 있다.\n",
    "- 마지막으로 datasets 내에는 유명한 데이터셋을 쉽게 불러오거나 다운로드 받을 수 있고 있고, (`torchvision.datasets.MNIST`)\n",
    "- 폴더 경로만 주어지면 자동으로 index를 포함하여 데이터셋을 만들 수 있는 객체도 포함한다. (`torchvision.datasets.ImageFolder`)\n",
    "\n",
    "`torch.utils.data.DataLoader`의 경우 아래의 5가지 대표적인 기능을 하며,\n",
    "\n",
    "- map-style and iterable-style datasets, (map은 각 데이터에 대해서 같은 처리를 동시에 하는 방식이고, iterable을 순회해가며 처리)\n",
    "- customizing data loading order,\n",
    "- automatic batching,\n",
    "- single- and multi-process data loading,\n",
    "- automatic memory pinning.\n",
    "\n",
    "`torch.utils.data.DataLoader(dataset, batch_size=1, shuffle=False, sampler=None, batch_sampler=None, num_workers=0, collate_fn=None, pin_memory=False, drop_last=False, timeout=0, worker_init_fn=None, multiprocessing_context=None)`\n",
    "\n",
    "위를 보면, 다양한 parameter를 볼 수 있는데, parameter 변경으로 데이터를 로드할 때 여러 처리를 할 수 있다.\n",
    "\n",
    "설명을 조금 하자면, Dataloader를 통해 batch로 혹은 non-batch로 데이터를 불러올 수 있는데, batch란 ***collating individual fetched data samples into batches***, 즉 개별 데이터를 batch 묶음 형태로 수집하는 것이다. Dataloader는 기본값으로 자동 batching을 지원한다.\n",
    "\n",
    "개별 데이터의 index들을 사용하여 sample list로 묶이면, collate_fn 함수를 통해 batches로 수집(collate)된다.\n",
    "\n",
    "```\n",
    "for indices in batch_sampler:\n",
    "    yield collate_fn([dataset[i] for i in indices])\n",
    "```\n",
    "\n",
    "중요한 것은,\n",
    "The use of collate_fn is slightly different when automatic batching is enabled or disabled.\n",
    "\n",
    "***When automatic batching is disabled***, collate_fn is called with each individual data sample, and the output is yielded from the data loader iterator. In this case, the default collate_fn simply converts NumPy arrays in PyTorch tensors.\n",
    "\n",
    "***When automatic batching is enabled***, collate_fn is called with a list of data samples at each time. It is expected to collate the input samples into a batch for yielding from the data loader iterator. The rest of this section describes behavior of the default collate_fn in this case."
   ]
  },
  {
   "cell_type": "code",
   "execution_count": 6,
   "metadata": {},
   "outputs": [],
   "source": [
    "def collate_fn(x):\n",
    "    return x[0]\n",
    "\n",
    "dataset = datasets.ImageFolder(data_dir)\n",
    "dataset.idx_to_class = {i:c for c, i in dataset.class_to_idx.items()}\n",
    "loader = DataLoader(dataset, collate_fn=collate_fn, num_workers=workers)"
   ]
  },
  {
   "cell_type": "code",
   "execution_count": 8,
   "metadata": {},
   "outputs": [
    {
     "name": "stdout",
     "output_type": "stream",
     "text": [
      "<PIL.Image.Image image mode=RGB size=490x489 at 0x1FCAEF98EB8>\n",
      "0\n"
     ]
    },
    {
     "ename": "RuntimeError",
     "evalue": "No active exception to reraise",
     "output_type": "error",
     "traceback": [
      "\u001b[1;31m---------------------------------------------------------------------------\u001b[0m",
      "\u001b[1;31mRuntimeError\u001b[0m                              Traceback (most recent call last)",
      "\u001b[1;32m<ipython-input-8-ccded6fd4448>\u001b[0m in \u001b[0;36m<module>\u001b[1;34m\u001b[0m\n\u001b[0;32m      2\u001b[0m     \u001b[0mprint\u001b[0m\u001b[1;33m(\u001b[0m\u001b[0mx\u001b[0m\u001b[1;33m)\u001b[0m\u001b[1;33m\u001b[0m\u001b[1;33m\u001b[0m\u001b[0m\n\u001b[0;32m      3\u001b[0m     \u001b[0mprint\u001b[0m\u001b[1;33m(\u001b[0m\u001b[0my\u001b[0m\u001b[1;33m)\u001b[0m\u001b[1;33m\u001b[0m\u001b[1;33m\u001b[0m\u001b[0m\n\u001b[1;32m----> 4\u001b[1;33m     \u001b[1;32mraise\u001b[0m \u001b[1;31m# 멈추기 위해 일부러 오류 발생\u001b[0m\u001b[1;33m\u001b[0m\u001b[1;33m\u001b[0m\u001b[0m\n\u001b[0m\u001b[0;32m      5\u001b[0m \u001b[1;33m\u001b[0m\u001b[0m\n\u001b[0;32m      6\u001b[0m \u001b[1;31m# collate_fn에 따른 결과값, 순서대로 x, x[0], x[0][0]\u001b[0m\u001b[1;33m\u001b[0m\u001b[1;33m\u001b[0m\u001b[1;33m\u001b[0m\u001b[0m\n",
      "\u001b[1;31mRuntimeError\u001b[0m: No active exception to reraise"
     ]
    }
   ],
   "source": [
    "for x, y in loader:\n",
    "    print(x)\n",
    "    print(y)\n",
    "    raise # 멈추기 위해 일부러 오류 발생\n",
    "\n",
    "# collate_fn에 따른 결과값, 순서대로 x, x[0], x[0][0]\n",
    "# [(<PIL.Image.Image image mode=RGB size=490x489 at 0x1AD3C10C7F0>, 0)]\n",
    "# (<PIL.Image.Image image mode=RGB size=490x489 at 0x1AD3C58BDD8>, 0)\n",
    "# <PIL.Image.Image image mode=RGB size=490x489 at 0x1AD3C56AE48>"
   ]
  },
  {
   "cell_type": "code",
   "execution_count": 9,
   "metadata": {},
   "outputs": [
    {
     "name": "stdout",
     "output_type": "stream",
     "text": [
      "Face detected with probability: 0.998157\n",
      "Face detected with probability: 0.999907\n",
      "Face detected with probability: 0.999996\n",
      "Face detected with probability: 0.998637\n",
      "Face detected with probability: 0.992943\n",
      "Face detected with probability: 0.999828\n",
      "Face detected with probability: 0.999999\n",
      "Face detected with probability: 0.999614\n",
      "Face detected with probability: 0.999639\n",
      "Face detected with probability: 0.999997\n",
      "Face detected with probability: 0.999999\n",
      "Face detected with probability: 0.999991\n",
      "Face detected with probability: 0.999993\n",
      "Face detected with probability: 0.999196\n",
      "Face detected with probability: 0.999427\n",
      "Face detected with probability: 0.999996\n",
      "Face detected with probability: 0.999999\n",
      "Face detected with probability: 0.995905\n",
      "Face detected with probability: 0.999999\n",
      "Face detected with probability: 0.999876\n",
      "Face detected with probability: 0.999325\n",
      "Face detected with probability: 0.999985\n",
      "Face detected with probability: 0.998141\n",
      "Face detected with probability: 0.999952\n",
      "Face detected with probability: 0.999969\n",
      "Face detected with probability: 0.999132\n",
      "Face detected with probability: 0.999966\n",
      "Face detected with probability: 0.999975\n",
      "Face detected with probability: 0.999496\n",
      "Face detected with probability: 0.999447\n",
      "Face detected with probability: 0.999994\n",
      "Face detected with probability: 0.999860\n",
      "Face detected with probability: 0.999946\n",
      "Face detected with probability: 0.998215\n",
      "Face detected with probability: 0.999681\n",
      "Face detected with probability: 0.999981\n",
      "Face detected with probability: 0.999667\n",
      "Face detected with probability: 0.999556\n",
      "Face detected with probability: 0.999736\n",
      "Face detected with probability: 0.999780\n",
      "Face detected with probability: 0.999995\n",
      "Face detected with probability: 0.994033\n",
      "Face detected with probability: 0.999191\n",
      "Face detected with probability: 0.994947\n",
      "Face detected with probability: 0.999045\n",
      "Face detected with probability: 0.999932\n",
      "Face detected with probability: 0.999307\n",
      "Face detected with probability: 0.999988\n",
      "Face detected with probability: 0.999308\n",
      "Face detected with probability: 0.997121\n"
     ]
    }
   ],
   "source": [
    "aligned = []\n",
    "names = []\n",
    "# x는 이미지(<PIL.Image.Image image mode=RGB size=490x489 at 0x1AD3C42EC50>)\n",
    "# y는 index\n",
    "for x, y in loader:\n",
    "    x_aligned, prob = mtcnn(x, return_prob=True)\n",
    "    if x_aligned is not None:\n",
    "        print('Face detected with probability: {:8f}'.format(prob))\n",
    "        aligned.append(x_aligned)\n",
    "        names.append(dataset.idx_to_class[y])"
   ]
  },
  {
   "cell_type": "code",
   "execution_count": 10,
   "metadata": {},
   "outputs": [],
   "source": [
    "resnet = InceptionResnetV1(pretrained='vggface2', classify=True).eval().to(device)"
   ]
  },
  {
   "cell_type": "code",
   "execution_count": 11,
   "metadata": {},
   "outputs": [],
   "source": [
    "aligned = torch.stack(aligned).to(device)\n",
    "embeddings = resnet(aligned).detach().cpu()"
   ]
  },
  {
   "cell_type": "code",
   "execution_count": 12,
   "metadata": {},
   "outputs": [
    {
     "data": {
      "text/plain": [
       "torch.Size([50, 8631])"
      ]
     },
     "execution_count": 12,
     "metadata": {},
     "output_type": "execute_result"
    }
   ],
   "source": [
    "embeddings.size()"
   ]
  },
  {
   "cell_type": "code",
   "execution_count": 13,
   "metadata": {},
   "outputs": [
    {
     "name": "stdout",
     "output_type": "stream",
     "text": [
      "                   IU          IU          IU          IU          IU  \\\n",
      "IU           0.000000  107.810120  116.027176  108.889549  123.196365   \n",
      "IU         107.810120    0.000000  102.467888   86.000793  131.691574   \n",
      "IU         116.027176  102.467888    0.000000  100.256821  115.437256   \n",
      "IU         108.889549   86.000793  100.256821    0.000000  130.040131   \n",
      "IU         123.196365  131.691574  115.437256  130.040131    0.000000   \n",
      "chanyoung  274.502075  241.052124  247.831802  263.818451  264.909210   \n",
      "chanyoung  259.087280  236.850754  239.362000  255.538300  249.462402   \n",
      "chanyoung  248.231018  228.814575  237.635712  240.089005  228.271973   \n",
      "chanyoung  257.008362  232.050644  246.255280  244.457062  230.637451   \n",
      "chanyoung  241.992126  237.529617  253.617783  238.546219  235.419189   \n",
      "eunwoo     253.210632  252.720032  257.899109  260.373688  253.126205   \n",
      "eunwoo     244.311539  243.839905  256.409576  246.702286  244.080246   \n",
      "eunwoo     218.141876  220.076767  229.051682  234.156372  236.815475   \n",
      "eunwoo     244.166656  249.211121  252.588394  256.493195  254.976410   \n",
      "eunwoo     262.919434  246.655579  260.395660  258.497253  269.268707   \n",
      "gaeri      214.498245  201.775177  218.941681  203.346970  202.753036   \n",
      "gaeri      229.339340  201.823624  208.929749  200.890137  231.017242   \n",
      "gaeri      228.804123  210.681534  219.417862  213.412888  229.323013   \n",
      "gaeri      266.717499  249.858704  261.157196  251.365448  273.023193   \n",
      "gaeri      223.712524  211.318604  216.520584  209.985352  204.528839   \n",
      "hayoung    211.174347  209.399399  171.463730  218.429443  185.729919   \n",
      "hayoung    208.008713  202.039597  163.885834  205.592026  171.576981   \n",
      "hayoung    191.168533  176.500122  167.436859  174.048553  160.524536   \n",
      "hayoung    214.906677  199.237595  190.932541  206.756729  198.268326   \n",
      "hayoung    220.407272  190.768036  188.914734  202.743607  209.604980   \n",
      "jaewon     242.719681  203.416214  199.388153  212.307434  233.263153   \n",
      "jaewon     233.214218  199.656219  201.788406  203.051605  224.176727   \n",
      "jaewon     231.180603  190.758911  197.195084  197.063019  212.431595   \n",
      "jaewon     238.174194  201.594269  204.179047  213.063263  225.585251   \n",
      "jaewon     247.440231  225.622360  211.922440  217.938690  242.139053   \n",
      "jonggook   246.117569  230.900986  248.466553  239.045303  231.683929   \n",
      "jonggook   262.357819  243.817978  260.787994  254.122650  254.733627   \n",
      "jonggook   258.378998  238.861053  249.872696  237.034012  234.545135   \n",
      "jonggook   253.290955  237.499954  254.136032  237.246964  255.253174   \n",
      "jonggook   242.513763  222.279526  238.505646  238.837540  237.035141   \n",
      "min        240.179764  209.853104  220.424683  230.947968  216.888962   \n",
      "min        249.404892  231.561798  241.506836  250.215027  230.444016   \n",
      "min        238.351761  220.522568  229.179581  232.681580  217.942413   \n",
      "min        259.112488  229.300644  252.718430  244.254257  241.931122   \n",
      "min        235.996002  227.841324  228.895157  226.013504  213.862610   \n",
      "soohyang   168.541138  159.660522  168.938446  161.864578  190.345062   \n",
      "soohyang   196.164154  196.334869  181.475632  182.964462  194.994354   \n",
      "soohyang   186.734482  173.597183  176.240204  166.569397  191.909821   \n",
      "soohyang   160.244461  165.763840  160.764542  154.155792  181.410233   \n",
      "soohyang   173.432434  159.521133  161.322357  157.900345  181.932648   \n",
      "younha     152.598419  151.360413  140.149185  132.978546  138.427658   \n",
      "younha     158.278458  166.574081  153.420883  163.055603  120.268829   \n",
      "younha     181.739380  176.952118  181.833969  172.475510  161.497284   \n",
      "younha     200.555710  208.606766  182.646866  200.979004  165.685425   \n",
      "younha     184.714478  186.113159  170.877853  157.339920  154.113403   \n",
      "\n",
      "            chanyoung   chanyoung   chanyoung   chanyoung   chanyoung  ...  \\\n",
      "IU         274.502075  259.087280  248.231018  257.008362  241.992126  ...   \n",
      "IU         241.052124  236.850754  228.814575  232.050644  237.529617  ...   \n",
      "IU         247.831802  239.362000  237.635712  246.255280  253.617783  ...   \n",
      "IU         263.818451  255.538300  240.089005  244.457062  238.546219  ...   \n",
      "IU         264.909210  249.462402  228.271973  230.637451  235.419189  ...   \n",
      "chanyoung    0.000000   94.422119  146.378601  149.164902  192.510864  ...   \n",
      "chanyoung   94.422119    0.000000  137.673798  159.360077  184.292740  ...   \n",
      "chanyoung  146.378601  137.673798    0.000000  106.506210  167.814468  ...   \n",
      "chanyoung  149.164902  159.360077  106.506210    0.000000  158.904709  ...   \n",
      "chanyoung  192.510864  184.292740  167.814468  158.904709    0.000000  ...   \n",
      "eunwoo     187.888779  193.431061  225.763412  224.917862  171.369873  ...   \n",
      "eunwoo     216.073486  203.165543  234.465820  218.917404  151.090622  ...   \n",
      "eunwoo     205.333099  201.274643  239.856323  247.021805  178.575180  ...   \n",
      "eunwoo     221.535706  234.483795  263.612793  254.308533  195.288010  ...   \n",
      "eunwoo     219.369202  224.378555  257.580109  238.184357  188.769485  ...   \n",
      "gaeri      195.467743  171.843628  155.419159  190.874512  193.667526  ...   \n",
      "gaeri      226.849304  221.516525  215.649490  232.440628  239.072754  ...   \n",
      "gaeri      211.790878  193.430756  174.659760  217.044601  235.178940  ...   \n",
      "gaeri      249.151993  235.942703  216.815369  244.279953  255.802795  ...   \n",
      "gaeri      209.913620  181.259232  170.776871  198.467377  209.361115  ...   \n",
      "hayoung    226.307114  229.566513  255.893875  251.219284  260.354950  ...   \n",
      "hayoung    223.174179  228.197922  241.965012  228.443085  250.539642  ...   \n",
      "hayoung    253.616486  252.676178  237.762115  230.594681  232.511459  ...   \n",
      "hayoung    198.962082  211.459808  213.335953  198.962570  224.766327  ...   \n",
      "hayoung    179.878159  196.706863  224.867188  204.572357  229.466843  ...   \n",
      "jaewon     225.470016  218.684113  261.398926  256.863281  270.282532  ...   \n",
      "jaewon     234.365280  220.797012  255.447418  250.736404  256.100433  ...   \n",
      "jaewon     212.559326  203.482452  238.658279  229.249527  240.804932  ...   \n",
      "jaewon     189.665268  199.942184  219.582413  211.612839  241.396530  ...   \n",
      "jaewon     268.115570  244.648743  283.296478  294.846191  291.198395  ...   \n",
      "jonggook   224.037033  189.177048  189.622955  206.048813  183.900909  ...   \n",
      "jonggook   233.921844  210.912735  184.539093  212.171906  192.999954  ...   \n",
      "jonggook   206.292694  170.768784  158.781036  174.928848  171.755539  ...   \n",
      "jonggook   240.853943  208.298813  207.422562  220.598480  207.976089  ...   \n",
      "jonggook   214.652130  186.172821  195.787033  226.693375  200.138199  ...   \n",
      "min        212.491302  179.530518  183.994980  203.248138  228.398087  ...   \n",
      "min        220.760605  200.805969  199.461914  218.868423  240.915161  ...   \n",
      "min        234.196533  200.883209  185.256790  210.995651  224.737244  ...   \n",
      "min        216.727036  199.704361  182.371353  191.958481  225.626434  ...   \n",
      "min        263.838104  236.858627  223.825470  232.691498  231.746399  ...   \n",
      "soohyang   263.245911  244.826447  235.235687  236.731888  245.367111  ...   \n",
      "soohyang   302.438538  294.036896  255.990967  258.952362  267.097015  ...   \n",
      "soohyang   265.445587  259.831116  235.070389  215.967346  224.494720  ...   \n",
      "soohyang   282.158447  280.988647  247.385956  250.080688  255.597748  ...   \n",
      "soohyang   279.113647  265.200348  236.516373  225.705383  235.727402  ...   \n",
      "younha     272.960999  268.490295  252.043030  251.487686  256.260895  ...   \n",
      "younha     266.243896  247.754105  230.714111  238.466492  248.773529  ...   \n",
      "younha     244.066208  230.498993  217.280640  220.423157  228.200394  ...   \n",
      "younha     259.706818  238.765915  250.147339  266.250427  265.851166  ...   \n",
      "younha     264.790497  251.909637  235.606384  237.395386  238.676743  ...   \n",
      "\n",
      "             soohyang    soohyang    soohyang    soohyang    soohyang  \\\n",
      "IU         168.541138  196.164154  186.734482  160.244461  173.432434   \n",
      "IU         159.660522  196.334869  173.597183  165.763840  159.521133   \n",
      "IU         168.938446  181.475632  176.240204  160.764542  161.322357   \n",
      "IU         161.864578  182.964462  166.569397  154.155792  157.900345   \n",
      "IU         190.345062  194.994354  191.909821  181.410233  181.932648   \n",
      "chanyoung  263.245911  302.438538  265.445587  282.158447  279.113647   \n",
      "chanyoung  244.826447  294.036896  259.831116  280.988647  265.200348   \n",
      "chanyoung  235.235687  255.990967  235.070389  247.385956  236.516373   \n",
      "chanyoung  236.731888  258.952362  215.967346  250.080688  225.705383   \n",
      "chanyoung  245.367111  267.097015  224.494720  255.597748  235.727402   \n",
      "eunwoo     270.384460  300.550476  263.784363  289.790375  290.287842   \n",
      "eunwoo     272.423676  302.426453  257.312622  292.342072  275.903717   \n",
      "eunwoo     241.601532  286.234894  250.624588  258.302979  264.022125   \n",
      "eunwoo     273.260315  291.397705  266.376068  271.786652  289.071899   \n",
      "eunwoo     255.103912  288.241669  257.191772  271.391754  278.921051   \n",
      "gaeri      208.126328  256.541443  248.129379  226.097046  239.680710   \n",
      "gaeri      219.073059  252.728119  249.714844  206.306534  227.852539   \n",
      "gaeri      227.257431  257.110382  263.367981  219.545807  244.487625   \n",
      "gaeri      243.127335  269.203003  269.449463  226.574722  259.804504   \n",
      "gaeri      231.011536  244.699951  244.169403  224.098129  232.029083   \n",
      "hayoung    243.924911  268.962097  244.849350  244.609009  266.851257   \n",
      "hayoung    234.287170  264.205444  233.746506  232.334671  250.289444   \n",
      "hayoung    206.983322  235.149231  214.745789  188.571411  214.019516   \n",
      "hayoung    209.523010  255.215393  216.053192  203.908447  235.942902   \n",
      "hayoung    197.408051  259.668579  213.250900  224.496521  241.586960   \n",
      "jaewon     238.879074  285.402130  253.065521  270.894562  255.914627   \n",
      "jaewon     228.370361  288.352661  246.389709  260.430756  248.828262   \n",
      "jaewon     228.338074  273.653137  237.220352  256.121399  236.743149   \n",
      "jaewon     236.441437  285.829590  244.687805  254.874008  248.741486   \n",
      "jaewon     251.300522  301.912842  273.467133  284.268677  274.877319   \n",
      "jonggook   249.326340  256.750946  242.398788  259.913239  242.818054   \n",
      "jonggook   276.181396  261.476562  259.539703  263.486359  247.335037   \n",
      "jonggook   254.791885  251.490860  244.274933  264.314178  245.588531   \n",
      "jonggook   241.889297  246.569534  240.703583  250.976303  238.031525   \n",
      "jonggook   248.155350  254.056961  255.563065  251.688187  243.435043   \n",
      "min        242.580856  260.199493  246.913193  265.246704  237.477051   \n",
      "min        244.703171  263.712921  257.904968  262.179565  265.368683   \n",
      "min        238.560074  246.021393  238.626617  263.382324  239.274673   \n",
      "min        229.228867  246.709122  229.417831  243.265991  241.644958   \n",
      "min        244.024277  247.628433  231.544220  260.334503  232.010773   \n",
      "soohyang     0.000000  177.292740  142.558487  137.443802  147.770737   \n",
      "soohyang   177.292740    0.000000  129.754196  128.943176  130.930084   \n",
      "soohyang   142.558487  129.754196    0.000000  146.533127   95.376534   \n",
      "soohyang   137.443802  128.943176  146.533127    0.000000  139.136261   \n",
      "soohyang   147.770737  130.930084   95.376534  139.136261    0.000000   \n",
      "younha     192.617508  217.877518  197.520630  194.554886  192.434204   \n",
      "younha     210.888840  220.534622  222.835663  205.122101  210.641876   \n",
      "younha     202.462799  248.682159  223.280945  218.896805  216.363907   \n",
      "younha     236.343613  247.396667  248.833786  236.237289  246.850006   \n",
      "younha     207.484528  233.820663  205.211548  223.706253  211.179306   \n",
      "\n",
      "               younha      younha      younha      younha      younha  \n",
      "IU         152.598419  158.278458  181.739380  200.555710  184.714478  \n",
      "IU         151.360413  166.574081  176.952118  208.606766  186.113159  \n",
      "IU         140.149185  153.420883  181.833969  182.646866  170.877853  \n",
      "IU         132.978546  163.055603  172.475510  200.979004  157.339920  \n",
      "IU         138.427658  120.268829  161.497284  165.685425  154.113403  \n",
      "chanyoung  272.960999  266.243896  244.066208  259.706818  264.790497  \n",
      "chanyoung  268.490295  247.754105  230.498993  238.765915  251.909637  \n",
      "chanyoung  252.043030  230.714111  217.280640  250.147339  235.606384  \n",
      "chanyoung  251.487686  238.466492  220.423157  266.250427  237.395386  \n",
      "chanyoung  256.260895  248.773529  228.200394  265.851166  238.676743  \n",
      "eunwoo     256.511475  262.726624  246.371628  252.241302  239.955521  \n",
      "eunwoo     252.461426  252.977020  235.777725  249.508453  240.172958  \n",
      "eunwoo     252.745056  258.830872  245.091003  249.083038  244.632477  \n",
      "eunwoo     264.610962  268.034088  257.854095  276.061493  257.571716  \n",
      "eunwoo     268.741882  270.900391  259.746582  276.228180  263.018188  \n",
      "gaeri      214.339905  203.190994  183.697159  215.484055  206.110962  \n",
      "gaeri      230.059937  229.720337  240.252808  247.743011  247.090881  \n",
      "gaeri      239.063522  227.385941  226.473969  231.371048  246.020203  \n",
      "gaeri      281.062469  272.124939  272.879425  286.021332  283.956329  \n",
      "gaeri      216.088699  192.923050  195.365814  200.076035  210.031235  \n",
      "hayoung    207.103088  198.828979  215.312271  213.384232  208.282532  \n",
      "hayoung    192.387817  187.341614  200.527542  206.101974  196.780777  \n",
      "hayoung    166.960693  166.064072  156.347916  208.088760  173.443100  \n",
      "hayoung    221.521866  213.562149  224.946579  246.153625  225.092087  \n",
      "hayoung    208.926132  227.194077  222.276382  240.007477  217.369522  \n",
      "jaewon     211.894730  244.928528  231.639389  235.823624  225.112213  \n",
      "jaewon     203.863647  234.289383  213.875427  216.609497  204.554367  \n",
      "jaewon     203.156616  227.512695  211.093170  219.066925  208.185394  \n",
      "jaewon     220.589294  247.402740  222.557144  246.090317  229.997025  \n",
      "jaewon     232.610565  259.205627  256.079803  231.331772  234.236679  \n",
      "jonggook   246.804901  209.051132  218.247528  230.225388  230.518036  \n",
      "jonggook   269.673096  240.896545  254.811920  264.901825  263.764526  \n",
      "jonggook   254.375320  223.500153  220.822250  243.036652  232.499680  \n",
      "jonggook   251.632263  233.293915  236.089859  247.612686  243.479309  \n",
      "jonggook   263.792297  224.673691  237.678055  238.827667  256.908813  \n",
      "min        235.862762  202.404816  210.154190  226.684479  219.920776  \n",
      "min        241.201553  201.764664  211.018204  211.516647  221.242569  \n",
      "min        243.871933  209.330475  223.187866  227.979675  224.172287  \n",
      "min        256.663849  233.368210  225.248566  249.448975  241.558945  \n",
      "min        208.937515  181.267548  214.845917  198.369995  177.135712  \n",
      "soohyang   192.617508  210.888840  202.462799  236.343613  207.484528  \n",
      "soohyang   217.877518  220.534622  248.682159  247.396667  233.820663  \n",
      "soohyang   197.520630  222.835663  223.280945  248.833786  205.211548  \n",
      "soohyang   194.554886  205.122101  218.896805  236.237289  223.706253  \n",
      "soohyang   192.434204  210.641876  216.363907  246.850006  211.179306  \n",
      "younha       0.000000  127.377769  129.780258  168.819672   93.081863  \n",
      "younha     127.377769    0.000000  138.920761  147.403961  139.410904  \n",
      "younha     129.780258  138.920761    0.000000  182.390106  111.724876  \n",
      "younha     168.819672  147.403961  182.390106    0.000000  162.479950  \n",
      "younha      93.081863  139.410904  111.724876  162.479950    0.000000  \n",
      "\n",
      "[50 rows x 50 columns]\n"
     ]
    }
   ],
   "source": [
    "dists = [[(e1 - e2).norm().item() for e2 in embeddings] for e1 in embeddings]\n",
    "print(pd.DataFrame(dists, columns=names, index=names))"
   ]
  },
  {
   "cell_type": "code",
   "execution_count": 14,
   "metadata": {},
   "outputs": [
    {
     "data": {
      "text/plain": [
       "['IU',\n",
       " 'IU',\n",
       " 'IU',\n",
       " 'IU',\n",
       " 'IU',\n",
       " 'chanyoung',\n",
       " 'chanyoung',\n",
       " 'chanyoung',\n",
       " 'chanyoung',\n",
       " 'chanyoung',\n",
       " 'eunwoo',\n",
       " 'eunwoo',\n",
       " 'eunwoo',\n",
       " 'eunwoo',\n",
       " 'eunwoo',\n",
       " 'gaeri',\n",
       " 'gaeri',\n",
       " 'gaeri',\n",
       " 'gaeri',\n",
       " 'gaeri',\n",
       " 'hayoung',\n",
       " 'hayoung',\n",
       " 'hayoung',\n",
       " 'hayoung',\n",
       " 'hayoung',\n",
       " 'jaewon',\n",
       " 'jaewon',\n",
       " 'jaewon',\n",
       " 'jaewon',\n",
       " 'jaewon',\n",
       " 'jonggook',\n",
       " 'jonggook',\n",
       " 'jonggook',\n",
       " 'jonggook',\n",
       " 'jonggook',\n",
       " 'min',\n",
       " 'min',\n",
       " 'min',\n",
       " 'min',\n",
       " 'min',\n",
       " 'soohyang',\n",
       " 'soohyang',\n",
       " 'soohyang',\n",
       " 'soohyang',\n",
       " 'soohyang',\n",
       " 'younha',\n",
       " 'younha',\n",
       " 'younha',\n",
       " 'younha',\n",
       " 'younha']"
      ]
     },
     "execution_count": 14,
     "metadata": {},
     "output_type": "execute_result"
    }
   ],
   "source": [
    "len(embeddings.tolist())\n",
    "names\n",
    "# dataset.class_to_idx"
   ]
  },
  {
   "cell_type": "code",
   "execution_count": 15,
   "metadata": {},
   "outputs": [],
   "source": [
    "idxs = []\n",
    "for n in names:\n",
    "    idxs.append(dataset.class_to_idx[n])"
   ]
  },
  {
   "cell_type": "code",
   "execution_count": 16,
   "metadata": {
    "pycharm": {
     "name": "#%%\n"
    }
   },
   "outputs": [],
   "source": [
    "from sklearn import svm"
   ]
  },
  {
   "cell_type": "code",
   "execution_count": 17,
   "metadata": {
    "pycharm": {
     "name": "#%%\n"
    }
   },
   "outputs": [
    {
     "data": {
      "text/plain": [
       "SVC(C=1.0, cache_size=200, class_weight=None, coef0=0.0,\n",
       "    decision_function_shape='ovr', degree=3, gamma='auto_deprecated',\n",
       "    kernel='linear', max_iter=-1, probability=True, random_state=None,\n",
       "    shrinking=True, tol=0.001, verbose=False)"
      ]
     },
     "execution_count": 17,
     "metadata": {},
     "output_type": "execute_result"
    }
   ],
   "source": [
    "clf = svm.SVC(kernel='linear', probability=True)\n",
    "clf.fit(embeddings.tolist(), idxs)"
   ]
  },
  {
   "cell_type": "markdown",
   "metadata": {},
   "source": [
    "### Test"
   ]
  },
  {
   "cell_type": "code",
   "execution_count": 18,
   "metadata": {
    "pycharm": {
     "name": "#%%\n"
    }
   },
   "outputs": [],
   "source": [
    "data_dir = './data/test'\n",
    "\n",
    "batch_size = 8\n",
    "epochs = 16\n",
    "workers = 0 if os.name == 'nt' else 4"
   ]
  },
  {
   "cell_type": "code",
   "execution_count": 19,
   "metadata": {
    "pycharm": {
     "name": "#%%\n"
    }
   },
   "outputs": [],
   "source": [
    "mtcnn = MTCNN(\n",
    "    image_size=160, margin=0, min_face_size=20,\n",
    "    thresholds=[0.6, 0.7, 0.7], factor=0.709,\n",
    "    device=device\n",
    ")"
   ]
  },
  {
   "cell_type": "code",
   "execution_count": 20,
   "metadata": {},
   "outputs": [],
   "source": [
    "resnet = InceptionResnetV1(pretrained='vggface2', classify=True).eval().to(device)"
   ]
  },
  {
   "cell_type": "code",
   "execution_count": 21,
   "metadata": {},
   "outputs": [],
   "source": [
    "def collate_fn(x):\n",
    "    return x[0]\n",
    "\n",
    "dataset = datasets.ImageFolder(data_dir)\n",
    "dataset.idx_to_class = {i:c for c, i in dataset.class_to_idx.items()}\n",
    "loader = DataLoader(dataset, collate_fn=collate_fn, num_workers=workers)"
   ]
  },
  {
   "cell_type": "code",
   "execution_count": 22,
   "metadata": {},
   "outputs": [],
   "source": [
    "aligned = []\n",
    "names = []\n",
    "for x, y in loader:\n",
    "    x_aligned, prob = mtcnn(x, return_prob=True)\n",
    "    if x_aligned is not None:\n",
    "        aligned.append(x_aligned)\n",
    "        names.append(dataset.idx_to_class[y])"
   ]
  },
  {
   "cell_type": "code",
   "execution_count": 23,
   "metadata": {},
   "outputs": [],
   "source": [
    "aligned = torch.stack(aligned).to(device)\n",
    "embeddings = resnet(aligned).detach().cpu()"
   ]
  },
  {
   "cell_type": "code",
   "execution_count": 24,
   "metadata": {},
   "outputs": [
    {
     "name": "stdout",
     "output_type": "stream",
     "text": [
      "0.3625982223694203\n",
      "0\n",
      "0.25168432557900555\n",
      "0\n",
      "0.4599965191660756\n",
      "1\n",
      "0.4245112873718769\n",
      "1\n",
      "0.4018164894846391\n",
      "2\n",
      "0.42744395317763395\n",
      "2\n",
      "0.4564392326777188\n",
      "3\n",
      "0.46992225780380786\n",
      "3\n",
      "0.4854342258980398\n",
      "4\n",
      "0.4796724560803571\n",
      "4\n",
      "0.41338187123350406\n",
      "5\n",
      "0.32202087968043036\n",
      "5\n",
      "0.4491405007483866\n",
      "6\n",
      "0.46899415159777824\n",
      "6\n",
      "0.3701196226338441\n",
      "7\n",
      "0.462430807751722\n",
      "7\n",
      "0.30815520424158577\n",
      "8\n",
      "0.4091222550773133\n",
      "8\n",
      "0.18853723016352036\n",
      "0\n",
      "0.21491975480721068\n",
      "0\n"
     ]
    }
   ],
   "source": [
    "for i in clf.predict_proba(embeddings.tolist()):\n",
    "    print(max(i))\n",
    "    print(np.argmax(i))"
   ]
  },
  {
   "cell_type": "markdown",
   "metadata": {},
   "source": [
    "마지막 결과는 확률 상 가능 높은 수치 값과 index를 의미하는데,\n",
    "\n",
    "마지막 데이터셋은 일부러 오답을 넣어두었다. 윤하 폴더에 전소미 사진을 넣어두었다.\n",
    "\n",
    "전소미는 그냥 한국인인데 외국인 느낌이 나서 섭외해봤다.\n",
    "\n",
    "개인적인 호감은 없다.\n",
    "\n",
    "데이터를 보면 알 수 있듯이, 가장 높은 확률이 30 ~ 50 사이로 큰 차이로 형성되는 것을 볼 수 있다.\n",
    "\n",
    "가장 높은 확률을 정답으로 택하면 모두 맞히지만, 학습되지 않은 얼굴인 전소미에 대해서 21프로의 결과를 얻은 것을 보았을 때, 25프로 아래는 unknown으로 처리해야 할 수준이다."
   ]
  },
  {
   "cell_type": "code",
   "execution_count": null,
   "metadata": {},
   "outputs": [],
   "source": []
  }
 ],
 "metadata": {
  "kernelspec": {
   "display_name": "Python 3",
   "language": "python",
   "name": "python3"
  },
  "language_info": {
   "codemirror_mode": {
    "name": "ipython",
    "version": 3
   },
   "file_extension": ".py",
   "mimetype": "text/x-python",
   "name": "python",
   "nbconvert_exporter": "python",
   "pygments_lexer": "ipython3",
   "version": "3.6.8"
  },
  "pycharm": {
   "stem_cell": {
    "cell_type": "raw",
    "metadata": {
     "collapsed": false
    },
    "source": []
   }
  }
 },
 "nbformat": 4,
 "nbformat_minor": 2
}
